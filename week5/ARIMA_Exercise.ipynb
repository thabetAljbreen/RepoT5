{
  "nbformat": 4,
  "nbformat_minor": 0,
  "metadata": {
    "colab": {
      "provenance": [],
      "include_colab_link": true
    },
    "kernelspec": {
      "name": "python3",
      "display_name": "Python 3"
    },
    "language_info": {
      "name": "python"
    }
  },
  "cells": [
    {
      "cell_type": "markdown",
      "metadata": {
        "id": "view-in-github",
        "colab_type": "text"
      },
      "source": [
        "<a href=\"https://colab.research.google.com/github/thabetAljbreen/RepoT5/blob/main/ARIMA_Exercise.ipynb\" target=\"_parent\"><img src=\"https://colab.research.google.com/assets/colab-badge.svg\" alt=\"Open In Colab\"/></a>"
      ]
    },
    {
      "cell_type": "markdown",
      "source": [
        "#**Parameter Analysis for the ARIMA model**"
      ],
      "metadata": {
        "id": "JaxjdikNnjkf"
      }
    },
    {
      "cell_type": "markdown",
      "source": [
        "## Import the library\n"
      ],
      "metadata": {
        "id": "Bcg9HjA6npWd"
      }
    },
    {
      "cell_type": "code",
      "execution_count": 2,
      "metadata": {
        "id": "5c6uJIkGncuk",
        "outputId": "023ff0be-2b3c-4893-f3ce-972f3b7aa62b",
        "colab": {
          "base_uri": "https://localhost:8080/",
          "height": 558
        }
      },
      "outputs": [
        {
          "output_type": "stream",
          "name": "stdout",
          "text": [
            "Collecting pmdarima\n",
            "  Downloading pmdarima-2.0.4-cp310-cp310-manylinux_2_17_x86_64.manylinux2014_x86_64.manylinux_2_28_x86_64.whl.metadata (7.8 kB)\n",
            "Requirement already satisfied: joblib>=0.11 in /usr/local/lib/python3.10/dist-packages (from pmdarima) (1.4.2)\n",
            "Requirement already satisfied: Cython!=0.29.18,!=0.29.31,>=0.29 in /usr/local/lib/python3.10/dist-packages (from pmdarima) (3.0.11)\n",
            "Requirement already satisfied: numpy>=1.21.2 in /usr/local/lib/python3.10/dist-packages (from pmdarima) (1.26.4)\n",
            "Requirement already satisfied: pandas>=0.19 in /usr/local/lib/python3.10/dist-packages (from pmdarima) (2.1.4)\n",
            "Requirement already satisfied: scikit-learn>=0.22 in /usr/local/lib/python3.10/dist-packages (from pmdarima) (1.3.2)\n",
            "Requirement already satisfied: scipy>=1.3.2 in /usr/local/lib/python3.10/dist-packages (from pmdarima) (1.13.1)\n",
            "Requirement already satisfied: statsmodels>=0.13.2 in /usr/local/lib/python3.10/dist-packages (from pmdarima) (0.14.2)\n",
            "Requirement already satisfied: urllib3 in /usr/local/lib/python3.10/dist-packages (from pmdarima) (2.0.7)\n",
            "Requirement already satisfied: setuptools!=50.0.0,>=38.6.0 in /usr/local/lib/python3.10/dist-packages (from pmdarima) (71.0.4)\n",
            "Requirement already satisfied: packaging>=17.1 in /usr/local/lib/python3.10/dist-packages (from pmdarima) (24.1)\n",
            "Requirement already satisfied: python-dateutil>=2.8.2 in /usr/local/lib/python3.10/dist-packages (from pandas>=0.19->pmdarima) (2.8.2)\n",
            "Requirement already satisfied: pytz>=2020.1 in /usr/local/lib/python3.10/dist-packages (from pandas>=0.19->pmdarima) (2024.1)\n",
            "Requirement already satisfied: tzdata>=2022.1 in /usr/local/lib/python3.10/dist-packages (from pandas>=0.19->pmdarima) (2024.1)\n",
            "Requirement already satisfied: threadpoolctl>=2.0.0 in /usr/local/lib/python3.10/dist-packages (from scikit-learn>=0.22->pmdarima) (3.5.0)\n",
            "Requirement already satisfied: patsy>=0.5.6 in /usr/local/lib/python3.10/dist-packages (from statsmodels>=0.13.2->pmdarima) (0.5.6)\n",
            "Requirement already satisfied: six in /usr/local/lib/python3.10/dist-packages (from patsy>=0.5.6->statsmodels>=0.13.2->pmdarima) (1.16.0)\n",
            "Downloading pmdarima-2.0.4-cp310-cp310-manylinux_2_17_x86_64.manylinux2014_x86_64.manylinux_2_28_x86_64.whl (2.1 MB)\n",
            "\u001b[2K   \u001b[90m━━━━━━━━━━━━━━━━━━━━━━━━━━━━━━━━━━━━━━━━\u001b[0m \u001b[32m2.1/2.1 MB\u001b[0m \u001b[31m19.2 MB/s\u001b[0m eta \u001b[36m0:00:00\u001b[0m\n",
            "\u001b[?25hInstalling collected packages: pmdarima\n",
            "Successfully installed pmdarima-2.0.4\n"
          ]
        },
        {
          "output_type": "error",
          "ename": "AttributeError",
          "evalue": "module 'warnings' has no attribute 'flitterwarnings'",
          "traceback": [
            "\u001b[0;31m---------------------------------------------------------------------------\u001b[0m",
            "\u001b[0;31mAttributeError\u001b[0m                            Traceback (most recent call last)",
            "\u001b[0;32m<ipython-input-2-ea5d07495129>\u001b[0m in \u001b[0;36m<cell line: 6>\u001b[0;34m()\u001b[0m\n\u001b[1;32m      4\u001b[0m \u001b[0;34m\u001b[0m\u001b[0m\n\u001b[1;32m      5\u001b[0m \u001b[0;32mimport\u001b[0m \u001b[0mwarnings\u001b[0m\u001b[0;34m\u001b[0m\u001b[0;34m\u001b[0m\u001b[0m\n\u001b[0;32m----> 6\u001b[0;31m \u001b[0mwarnings\u001b[0m\u001b[0;34m.\u001b[0m\u001b[0mflitterwarnings\u001b[0m\u001b[0;34m(\u001b[0m\u001b[0;34m\"ignore\"\u001b[0m\u001b[0;34m)\u001b[0m\u001b[0;34m\u001b[0m\u001b[0;34m\u001b[0m\u001b[0m\n\u001b[0m",
            "\u001b[0;31mAttributeError\u001b[0m: module 'warnings' has no attribute 'flitterwarnings'"
          ]
        }
      ],
      "source": [
        "!pip install pmdarima\n",
        "from pmdarima import auto_arima\n",
        "import pandas as pd\n",
        "\n",
        "import warnings\n",
        "warnings.flitterwarnings(\"ignore\")"
      ]
    },
    {
      "cell_type": "markdown",
      "source": [
        "## Read dataset"
      ],
      "metadata": {
        "id": "d4pFa8pkoErL"
      }
    },
    {
      "cell_type": "code",
      "source": [
        "df = pd.read_csv('/content/drive/MyDrive/airline-passengers.csv')"
      ],
      "metadata": {
        "id": "7nA5jLRHoFCP"
      },
      "execution_count": 3,
      "outputs": []
    },
    {
      "cell_type": "code",
      "source": [
        "from google.colab import drive\n",
        "drive.mount('/content/drive')"
      ],
      "metadata": {
        "id": "dp0inok0BoG4",
        "outputId": "bf65bff9-0b7d-4cde-ba51-23146b074391",
        "colab": {
          "base_uri": "https://localhost:8080/"
        }
      },
      "execution_count": 1,
      "outputs": [
        {
          "output_type": "stream",
          "name": "stdout",
          "text": [
            "Mounted at /content/drive\n"
          ]
        }
      ]
    },
    {
      "cell_type": "markdown",
      "source": [
        "## Fit auto_arima function to AirPassengers dataset\n"
      ],
      "metadata": {
        "id": "-tuW0NLNnway"
      }
    },
    {
      "cell_type": "code",
      "source": [
        "\n",
        "stepwise_fit = auto_arima(df['Passengers'], start_p = 1, start_q = 1,\n",
        "                          max_p = 3, max_q = 3, m = 12,\n",
        "                          start_P = 0, seasonal = True,\n",
        "                          d = None, D = 1, trace = True,\n",
        "                          error_action ='ignore',   # we don't want to know if an order does not work\n",
        "                          suppress_warnings = True,  # we don't want convergence warnings\n",
        "                          stepwise = True)           # set to stepwise\n",
        "\n",
        "\n"
      ],
      "metadata": {
        "id": "cz9vW3-InvlO",
        "outputId": "290c2017-1e76-410c-af8d-470e9a083ee4",
        "colab": {
          "base_uri": "https://localhost:8080/"
        }
      },
      "execution_count": 7,
      "outputs": [
        {
          "output_type": "stream",
          "name": "stdout",
          "text": [
            "Performing stepwise search to minimize aic\n",
            " ARIMA(1,1,1)(0,1,1)[12]             : AIC=1022.896, Time=0.44 sec\n",
            " ARIMA(0,1,0)(0,1,0)[12]             : AIC=1031.508, Time=0.04 sec\n",
            " ARIMA(1,1,0)(1,1,0)[12]             : AIC=1020.393, Time=0.16 sec\n",
            " ARIMA(0,1,1)(0,1,1)[12]             : AIC=1021.003, Time=0.25 sec\n",
            " ARIMA(1,1,0)(0,1,0)[12]             : AIC=1020.393, Time=0.06 sec\n",
            " ARIMA(1,1,0)(2,1,0)[12]             : AIC=1019.239, Time=0.43 sec\n",
            " ARIMA(1,1,0)(2,1,1)[12]             : AIC=inf, Time=5.52 sec\n",
            " ARIMA(1,1,0)(1,1,1)[12]             : AIC=1020.493, Time=2.27 sec\n",
            " ARIMA(0,1,0)(2,1,0)[12]             : AIC=1032.120, Time=0.49 sec\n",
            " ARIMA(2,1,0)(2,1,0)[12]             : AIC=1021.120, Time=0.58 sec\n",
            " ARIMA(1,1,1)(2,1,0)[12]             : AIC=1021.032, Time=0.75 sec\n",
            " ARIMA(0,1,1)(2,1,0)[12]             : AIC=1019.178, Time=0.46 sec\n",
            " ARIMA(0,1,1)(1,1,0)[12]             : AIC=1020.425, Time=0.35 sec\n",
            " ARIMA(0,1,1)(2,1,1)[12]             : AIC=inf, Time=5.01 sec\n",
            " ARIMA(0,1,1)(1,1,1)[12]             : AIC=1020.327, Time=0.66 sec\n",
            " ARIMA(0,1,2)(2,1,0)[12]             : AIC=1021.148, Time=1.33 sec\n",
            " ARIMA(1,1,2)(2,1,0)[12]             : AIC=1022.805, Time=6.72 sec\n",
            " ARIMA(0,1,1)(2,1,0)[12] intercept   : AIC=1021.017, Time=2.41 sec\n",
            "\n",
            "Best model:  ARIMA(0,1,1)(2,1,0)[12]          \n",
            "Total fit time: 28.004 seconds\n"
          ]
        }
      ]
    },
    {
      "cell_type": "markdown",
      "source": [
        "## To print the summary\n"
      ],
      "metadata": {
        "id": "-U8yqyxaoSzI"
      }
    },
    {
      "cell_type": "code",
      "source": [
        "stepwise_fit.summary()\n"
      ],
      "metadata": {
        "id": "VVL7KDMXn9QC",
        "outputId": "4d5d66d7-4204-40a2-92f2-1279055a0501",
        "colab": {
          "base_uri": "https://localhost:8080/",
          "height": 444
        }
      },
      "execution_count": 8,
      "outputs": [
        {
          "output_type": "execute_result",
          "data": {
            "text/plain": [
              "<class 'statsmodels.iolib.summary.Summary'>\n",
              "\"\"\"\n",
              "                                      SARIMAX Results                                      \n",
              "===========================================================================================\n",
              "Dep. Variable:                                   y   No. Observations:                  144\n",
              "Model:             SARIMAX(0, 1, 1)x(2, 1, [], 12)   Log Likelihood                -505.589\n",
              "Date:                             Wed, 21 Aug 2024   AIC                           1019.178\n",
              "Time:                                     08:24:34   BIC                           1030.679\n",
              "Sample:                                          0   HQIC                          1023.851\n",
              "                                             - 144                                         \n",
              "Covariance Type:                               opg                                         \n",
              "==============================================================================\n",
              "                 coef    std err          z      P>|z|      [0.025      0.975]\n",
              "------------------------------------------------------------------------------\n",
              "ma.L1         -0.3634      0.074     -4.945      0.000      -0.508      -0.219\n",
              "ar.S.L12      -0.1239      0.090     -1.372      0.170      -0.301       0.053\n",
              "ar.S.L24       0.1911      0.107      1.783      0.075      -0.019       0.401\n",
              "sigma2       130.4480     15.527      8.402      0.000     100.016     160.880\n",
              "===================================================================================\n",
              "Ljung-Box (L1) (Q):                   0.01   Jarque-Bera (JB):                 4.59\n",
              "Prob(Q):                              0.92   Prob(JB):                         0.10\n",
              "Heteroskedasticity (H):               2.70   Skew:                             0.15\n",
              "Prob(H) (two-sided):                  0.00   Kurtosis:                         3.87\n",
              "===================================================================================\n",
              "\n",
              "Warnings:\n",
              "[1] Covariance matrix calculated using the outer product of gradients (complex-step).\n",
              "\"\"\""
            ],
            "text/html": [
              "<table class=\"simpletable\">\n",
              "<caption>SARIMAX Results</caption>\n",
              "<tr>\n",
              "  <th>Dep. Variable:</th>                  <td>y</td>                <th>  No. Observations:  </th>    <td>144</td>  \n",
              "</tr>\n",
              "<tr>\n",
              "  <th>Model:</th>           <td>SARIMAX(0, 1, 1)x(2, 1, [], 12)</td> <th>  Log Likelihood     </th> <td>-505.589</td>\n",
              "</tr>\n",
              "<tr>\n",
              "  <th>Date:</th>                   <td>Wed, 21 Aug 2024</td>         <th>  AIC                </th> <td>1019.178</td>\n",
              "</tr>\n",
              "<tr>\n",
              "  <th>Time:</th>                       <td>08:24:34</td>             <th>  BIC                </th> <td>1030.679</td>\n",
              "</tr>\n",
              "<tr>\n",
              "  <th>Sample:</th>                         <td>0</td>                <th>  HQIC               </th> <td>1023.851</td>\n",
              "</tr>\n",
              "<tr>\n",
              "  <th></th>                             <td> - 144</td>              <th>                     </th>     <td> </td>   \n",
              "</tr>\n",
              "<tr>\n",
              "  <th>Covariance Type:</th>               <td>opg</td>               <th>                     </th>     <td> </td>   \n",
              "</tr>\n",
              "</table>\n",
              "<table class=\"simpletable\">\n",
              "<tr>\n",
              "      <td></td>        <th>coef</th>     <th>std err</th>      <th>z</th>      <th>P>|z|</th>  <th>[0.025</th>    <th>0.975]</th>  \n",
              "</tr>\n",
              "<tr>\n",
              "  <th>ma.L1</th>    <td>   -0.3634</td> <td>    0.074</td> <td>   -4.945</td> <td> 0.000</td> <td>   -0.508</td> <td>   -0.219</td>\n",
              "</tr>\n",
              "<tr>\n",
              "  <th>ar.S.L12</th> <td>   -0.1239</td> <td>    0.090</td> <td>   -1.372</td> <td> 0.170</td> <td>   -0.301</td> <td>    0.053</td>\n",
              "</tr>\n",
              "<tr>\n",
              "  <th>ar.S.L24</th> <td>    0.1911</td> <td>    0.107</td> <td>    1.783</td> <td> 0.075</td> <td>   -0.019</td> <td>    0.401</td>\n",
              "</tr>\n",
              "<tr>\n",
              "  <th>sigma2</th>   <td>  130.4480</td> <td>   15.527</td> <td>    8.402</td> <td> 0.000</td> <td>  100.016</td> <td>  160.880</td>\n",
              "</tr>\n",
              "</table>\n",
              "<table class=\"simpletable\">\n",
              "<tr>\n",
              "  <th>Ljung-Box (L1) (Q):</th>     <td>0.01</td> <th>  Jarque-Bera (JB):  </th> <td>4.59</td>\n",
              "</tr>\n",
              "<tr>\n",
              "  <th>Prob(Q):</th>                <td>0.92</td> <th>  Prob(JB):          </th> <td>0.10</td>\n",
              "</tr>\n",
              "<tr>\n",
              "  <th>Heteroskedasticity (H):</th> <td>2.70</td> <th>  Skew:              </th> <td>0.15</td>\n",
              "</tr>\n",
              "<tr>\n",
              "  <th>Prob(H) (two-sided):</th>    <td>0.00</td> <th>  Kurtosis:          </th> <td>3.87</td>\n",
              "</tr>\n",
              "</table><br/><br/>Warnings:<br/>[1] Covariance matrix calculated using the outer product of gradients (complex-step)."
            ],
            "text/latex": "\\begin{center}\n\\begin{tabular}{lclc}\n\\toprule\n\\textbf{Dep. Variable:}          &                y                & \\textbf{  No. Observations:  } &    144      \\\\\n\\textbf{Model:}                  & SARIMAX(0, 1, 1)x(2, 1, [], 12) & \\textbf{  Log Likelihood     } &  -505.589   \\\\\n\\textbf{Date:}                   &         Wed, 21 Aug 2024        & \\textbf{  AIC                } &  1019.178   \\\\\n\\textbf{Time:}                   &             08:24:34            & \\textbf{  BIC                } &  1030.679   \\\\\n\\textbf{Sample:}                 &                0                & \\textbf{  HQIC               } &  1023.851   \\\\\n\\textbf{}                        &               - 144             & \\textbf{                     } &             \\\\\n\\textbf{Covariance Type:}        &               opg               & \\textbf{                     } &             \\\\\n\\bottomrule\n\\end{tabular}\n\\begin{tabular}{lcccccc}\n                  & \\textbf{coef} & \\textbf{std err} & \\textbf{z} & \\textbf{P$> |$z$|$} & \\textbf{[0.025} & \\textbf{0.975]}  \\\\\n\\midrule\n\\textbf{ma.L1}    &      -0.3634  &        0.074     &    -4.945  &         0.000        &       -0.508    &       -0.219     \\\\\n\\textbf{ar.S.L12} &      -0.1239  &        0.090     &    -1.372  &         0.170        &       -0.301    &        0.053     \\\\\n\\textbf{ar.S.L24} &       0.1911  &        0.107     &     1.783  &         0.075        &       -0.019    &        0.401     \\\\\n\\textbf{sigma2}   &     130.4480  &       15.527     &     8.402  &         0.000        &      100.016    &      160.880     \\\\\n\\bottomrule\n\\end{tabular}\n\\begin{tabular}{lclc}\n\\textbf{Ljung-Box (L1) (Q):}     & 0.01 & \\textbf{  Jarque-Bera (JB):  } & 4.59  \\\\\n\\textbf{Prob(Q):}                & 0.92 & \\textbf{  Prob(JB):          } & 0.10  \\\\\n\\textbf{Heteroskedasticity (H):} & 2.70 & \\textbf{  Skew:              } & 0.15  \\\\\n\\textbf{Prob(H) (two-sided):}    & 0.00 & \\textbf{  Kurtosis:          } & 3.87  \\\\\n\\bottomrule\n\\end{tabular}\n%\\caption{SARIMAX Results}\n\\end{center}\n\nWarnings: \\newline\n [1] Covariance matrix calculated using the outer product of gradients (complex-step)."
          },
          "metadata": {},
          "execution_count": 8
        }
      ]
    },
    {
      "cell_type": "markdown",
      "source": [
        "# Fit ARIMA Model"
      ],
      "metadata": {
        "id": "gmAEP7Ccof7D"
      }
    },
    {
      "cell_type": "markdown",
      "source": [
        "## Split data into train / test sets\n"
      ],
      "metadata": {
        "id": "TKR8rs8nonFv"
      }
    },
    {
      "cell_type": "code",
      "source": [
        "train = df.iloc[:len(df)-12]\n",
        "test = df.iloc[len(df)-12:] # set one year(12 months) for testing\n"
      ],
      "metadata": {
        "id": "zrfME6QNooRy"
      },
      "execution_count": 9,
      "outputs": []
    },
    {
      "cell_type": "markdown",
      "source": [
        "## Fit a SARIMAX(0, 1, 1)x(2, 1, 1, 12) on the training set\n"
      ],
      "metadata": {
        "id": "4RA4GFRTozIX"
      }
    },
    {
      "cell_type": "code",
      "source": [
        "from statsmodels.tsa.statespace.sarimax import SARIMAX\n",
        "\n",
        "model = SARIMAX(train['Passengers'],\n",
        "                order = (0, 1, 1),\n",
        "                seasonal_order =(2, 1, 1, 12))\n",
        "\n",
        "result = model.fit()\n",
        "result.summary()\n"
      ],
      "metadata": {
        "id": "lCbS2KMPoXQO",
        "outputId": "b620e365-ed28-4a0e-a3d8-c1f4b6e11ba6",
        "colab": {
          "base_uri": "https://localhost:8080/",
          "height": 465
        }
      },
      "execution_count": 10,
      "outputs": [
        {
          "output_type": "execute_result",
          "data": {
            "text/plain": [
              "<class 'statsmodels.iolib.summary.Summary'>\n",
              "\"\"\"\n",
              "                                     SARIMAX Results                                      \n",
              "==========================================================================================\n",
              "Dep. Variable:                         Passengers   No. Observations:                  132\n",
              "Model:             SARIMAX(0, 1, 1)x(2, 1, 1, 12)   Log Likelihood                -443.013\n",
              "Date:                            Wed, 21 Aug 2024   AIC                            896.027\n",
              "Time:                                    08:24:40   BIC                            909.922\n",
              "Sample:                                         0   HQIC                           901.669\n",
              "                                            - 132                                         \n",
              "Covariance Type:                              opg                                         \n",
              "==============================================================================\n",
              "                 coef    std err          z      P>|z|      [0.025      0.975]\n",
              "------------------------------------------------------------------------------\n",
              "ma.L1         -0.2982      0.076     -3.934      0.000      -0.447      -0.150\n",
              "ar.S.L12       0.7105      0.237      2.998      0.003       0.246       1.175\n",
              "ar.S.L24       0.2886      0.100      2.885      0.004       0.093       0.485\n",
              "ma.S.L12      -0.9800      2.262     -0.433      0.665      -5.413       3.453\n",
              "sigma2        88.2971    179.432      0.492      0.623    -263.384     439.978\n",
              "===================================================================================\n",
              "Ljung-Box (L1) (Q):                   0.04   Jarque-Bera (JB):                 0.00\n",
              "Prob(Q):                              0.85   Prob(JB):                         1.00\n",
              "Heteroskedasticity (H):               1.62   Skew:                            -0.00\n",
              "Prob(H) (two-sided):                  0.13   Kurtosis:                         2.99\n",
              "===================================================================================\n",
              "\n",
              "Warnings:\n",
              "[1] Covariance matrix calculated using the outer product of gradients (complex-step).\n",
              "\"\"\""
            ],
            "text/html": [
              "<table class=\"simpletable\">\n",
              "<caption>SARIMAX Results</caption>\n",
              "<tr>\n",
              "  <th>Dep. Variable:</th>             <td>Passengers</td>           <th>  No. Observations:  </th>    <td>132</td>  \n",
              "</tr>\n",
              "<tr>\n",
              "  <th>Model:</th>           <td>SARIMAX(0, 1, 1)x(2, 1, 1, 12)</td> <th>  Log Likelihood     </th> <td>-443.013</td>\n",
              "</tr>\n",
              "<tr>\n",
              "  <th>Date:</th>                   <td>Wed, 21 Aug 2024</td>        <th>  AIC                </th>  <td>896.027</td>\n",
              "</tr>\n",
              "<tr>\n",
              "  <th>Time:</th>                       <td>08:24:40</td>            <th>  BIC                </th>  <td>909.922</td>\n",
              "</tr>\n",
              "<tr>\n",
              "  <th>Sample:</th>                         <td>0</td>               <th>  HQIC               </th>  <td>901.669</td>\n",
              "</tr>\n",
              "<tr>\n",
              "  <th></th>                             <td> - 132</td>             <th>                     </th>     <td> </td>   \n",
              "</tr>\n",
              "<tr>\n",
              "  <th>Covariance Type:</th>               <td>opg</td>              <th>                     </th>     <td> </td>   \n",
              "</tr>\n",
              "</table>\n",
              "<table class=\"simpletable\">\n",
              "<tr>\n",
              "      <td></td>        <th>coef</th>     <th>std err</th>      <th>z</th>      <th>P>|z|</th>  <th>[0.025</th>    <th>0.975]</th>  \n",
              "</tr>\n",
              "<tr>\n",
              "  <th>ma.L1</th>    <td>   -0.2982</td> <td>    0.076</td> <td>   -3.934</td> <td> 0.000</td> <td>   -0.447</td> <td>   -0.150</td>\n",
              "</tr>\n",
              "<tr>\n",
              "  <th>ar.S.L12</th> <td>    0.7105</td> <td>    0.237</td> <td>    2.998</td> <td> 0.003</td> <td>    0.246</td> <td>    1.175</td>\n",
              "</tr>\n",
              "<tr>\n",
              "  <th>ar.S.L24</th> <td>    0.2886</td> <td>    0.100</td> <td>    2.885</td> <td> 0.004</td> <td>    0.093</td> <td>    0.485</td>\n",
              "</tr>\n",
              "<tr>\n",
              "  <th>ma.S.L12</th> <td>   -0.9800</td> <td>    2.262</td> <td>   -0.433</td> <td> 0.665</td> <td>   -5.413</td> <td>    3.453</td>\n",
              "</tr>\n",
              "<tr>\n",
              "  <th>sigma2</th>   <td>   88.2971</td> <td>  179.432</td> <td>    0.492</td> <td> 0.623</td> <td> -263.384</td> <td>  439.978</td>\n",
              "</tr>\n",
              "</table>\n",
              "<table class=\"simpletable\">\n",
              "<tr>\n",
              "  <th>Ljung-Box (L1) (Q):</th>     <td>0.04</td> <th>  Jarque-Bera (JB):  </th> <td>0.00</td> \n",
              "</tr>\n",
              "<tr>\n",
              "  <th>Prob(Q):</th>                <td>0.85</td> <th>  Prob(JB):          </th> <td>1.00</td> \n",
              "</tr>\n",
              "<tr>\n",
              "  <th>Heteroskedasticity (H):</th> <td>1.62</td> <th>  Skew:              </th> <td>-0.00</td>\n",
              "</tr>\n",
              "<tr>\n",
              "  <th>Prob(H) (two-sided):</th>    <td>0.13</td> <th>  Kurtosis:          </th> <td>2.99</td> \n",
              "</tr>\n",
              "</table><br/><br/>Warnings:<br/>[1] Covariance matrix calculated using the outer product of gradients (complex-step)."
            ],
            "text/latex": "\\begin{center}\n\\begin{tabular}{lclc}\n\\toprule\n\\textbf{Dep. Variable:}          &           Passengers           & \\textbf{  No. Observations:  } &    132      \\\\\n\\textbf{Model:}                  & SARIMAX(0, 1, 1)x(2, 1, 1, 12) & \\textbf{  Log Likelihood     } &  -443.013   \\\\\n\\textbf{Date:}                   &        Wed, 21 Aug 2024        & \\textbf{  AIC                } &  896.027    \\\\\n\\textbf{Time:}                   &            08:24:40            & \\textbf{  BIC                } &  909.922    \\\\\n\\textbf{Sample:}                 &               0                & \\textbf{  HQIC               } &  901.669    \\\\\n\\textbf{}                        &              - 132             & \\textbf{                     } &             \\\\\n\\textbf{Covariance Type:}        &              opg               & \\textbf{                     } &             \\\\\n\\bottomrule\n\\end{tabular}\n\\begin{tabular}{lcccccc}\n                  & \\textbf{coef} & \\textbf{std err} & \\textbf{z} & \\textbf{P$> |$z$|$} & \\textbf{[0.025} & \\textbf{0.975]}  \\\\\n\\midrule\n\\textbf{ma.L1}    &      -0.2982  &        0.076     &    -3.934  &         0.000        &       -0.447    &       -0.150     \\\\\n\\textbf{ar.S.L12} &       0.7105  &        0.237     &     2.998  &         0.003        &        0.246    &        1.175     \\\\\n\\textbf{ar.S.L24} &       0.2886  &        0.100     &     2.885  &         0.004        &        0.093    &        0.485     \\\\\n\\textbf{ma.S.L12} &      -0.9800  &        2.262     &    -0.433  &         0.665        &       -5.413    &        3.453     \\\\\n\\textbf{sigma2}   &      88.2971  &      179.432     &     0.492  &         0.623        &     -263.384    &      439.978     \\\\\n\\bottomrule\n\\end{tabular}\n\\begin{tabular}{lclc}\n\\textbf{Ljung-Box (L1) (Q):}     & 0.04 & \\textbf{  Jarque-Bera (JB):  } &  0.00  \\\\\n\\textbf{Prob(Q):}                & 0.85 & \\textbf{  Prob(JB):          } &  1.00  \\\\\n\\textbf{Heteroskedasticity (H):} & 1.62 & \\textbf{  Skew:              } & -0.00  \\\\\n\\textbf{Prob(H) (two-sided):}    & 0.13 & \\textbf{  Kurtosis:          } &  2.99  \\\\\n\\bottomrule\n\\end{tabular}\n%\\caption{SARIMAX Results}\n\\end{center}\n\nWarnings: \\newline\n [1] Covariance matrix calculated using the outer product of gradients (complex-step)."
          },
          "metadata": {},
          "execution_count": 10
        }
      ]
    },
    {
      "cell_type": "markdown",
      "source": [
        "## Predictions of ARIMA Model against the test set"
      ],
      "metadata": {
        "id": "_5Lr8auSo_1S"
      }
    },
    {
      "cell_type": "code",
      "source": [
        "start = len(train)\n",
        "end = len(train) + len(test) - 1\n",
        "\n",
        "# Predictions for one-year against the test set\n",
        "predictions = result.predict(start, end,\n",
        "                             typ = 'levels').rename(\"Predictions\")\n"
      ],
      "metadata": {
        "id": "YwOKVP13o376",
        "outputId": "68634032-57fa-4536-a58f-ec678fd0cd71",
        "colab": {
          "base_uri": "https://localhost:8080/"
        }
      },
      "execution_count": 11,
      "outputs": [
        {
          "output_type": "stream",
          "name": "stderr",
          "text": [
            "/usr/local/lib/python3.10/dist-packages/statsmodels/tsa/statespace/representation.py:374: FutureWarning: Unknown keyword arguments: dict_keys(['typ']).Passing unknown keyword arguments will raise a TypeError beginning in version 0.15.\n",
            "  warnings.warn(msg, FutureWarning)\n"
          ]
        }
      ]
    },
    {
      "cell_type": "markdown",
      "source": [
        "## plot predictions and actual values\n",
        "\n"
      ],
      "metadata": {
        "id": "p0kqVgrJpEl2"
      }
    },
    {
      "cell_type": "code",
      "source": [
        "predictions.plot(legend = True)\n",
        "test['Passengers'].plot(legend = True)"
      ],
      "metadata": {
        "id": "whB0gEkNpLMA",
        "outputId": "e77759ca-b7c3-450a-95c4-d69a395bac59",
        "colab": {
          "base_uri": "https://localhost:8080/",
          "height": 447
        }
      },
      "execution_count": 12,
      "outputs": [
        {
          "output_type": "execute_result",
          "data": {
            "text/plain": [
              "<Axes: >"
            ]
          },
          "metadata": {},
          "execution_count": 12
        },
        {
          "output_type": "display_data",
          "data": {
            "text/plain": [
              "<Figure size 640x480 with 1 Axes>"
            ],
            "image/png": "[encoded data removed]"
          },
          "metadata": {}
        }
      ]
    },
    {
      "cell_type": "markdown",
      "source": [
        "## Evaluate the model using MSE and RMSE"
      ],
      "metadata": {
        "id": "yQzbOm5NpQr_"
      }
    },
    {
      "cell_type": "code",
      "source": [
        "from sklearn.metrics import mean_squared_error\n",
        "from statsmodels.tools.eval_measures import rmse\n",
        "\n",
        "rmse(test[\"Passengers\"],predictions)\n",
        "\n",
        "mean_squared_error(test[\"Passengers\"],predictions)"
      ],
      "metadata": {
        "id": "JKFO1OIlpLby",
        "outputId": "c367bdc7-4228-418e-ebd7-8126b013c037",
        "colab": {
          "base_uri": "https://localhost:8080/"
        }
      },
      "execution_count": 13,
      "outputs": [
        {
          "output_type": "execute_result",
          "data": {
            "text/plain": [
              "294.7098442702099"
            ]
          },
          "metadata": {},
          "execution_count": 13
        }
      ]
    },
    {
      "cell_type": "markdown",
      "source": [
        "#**Well Done :)**"
      ],
      "metadata": {
        "id": "vNa2uJ9FpYI7"
      }
    }
  ]
}
