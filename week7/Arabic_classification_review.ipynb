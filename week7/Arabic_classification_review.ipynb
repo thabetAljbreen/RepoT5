{
  "metadata": {
    "kernelspec": {
      "language": "python",
      "display_name": "Python 3",
      "name": "python3"
    },
    "language_info": {
      "pygments_lexer": "ipython3",
      "nbconvert_exporter": "python",
      "version": "3.6.4",
      "file_extension": ".py",
      "codemirror_mode": {
        "name": "ipython",
        "version": 3
      },
      "name": "python",
      "mimetype": "text/x-python"
    },
    "colab": {
      "name": "Arabic classification review",
      "provenance": [],
      "include_colab_link": true
    }
  },
  "nbformat_minor": 0,
  "nbformat": 4,
  "cells": [
    {
      "cell_type": "markdown",
      "metadata": {
        "id": "view-in-github",
        "colab_type": "text"
      },
      "source": [
        "<a href=\"https://colab.research.google.com/github/thabetAljbreen/RepoT5/blob/main/Arabic_classification_review.ipynb\" target=\"_parent\"><img src=\"https://colab.research.google.com/assets/colab-badge.svg\" alt=\"Open In Colab\"/></a>"
      ]
    },
    {
      "source": [
        "\n",
        "# IMPORTANT: RUN THIS CELL IN ORDER TO IMPORT YOUR KAGGLE DATA SOURCES\n",
        "# TO THE CORRECT LOCATION (/kaggle/input) IN YOUR NOTEBOOK,\n",
        "# THEN FEEL FREE TO DELETE THIS CELL.\n",
        "# NOTE: THIS NOTEBOOK ENVIRONMENT DIFFERS FROM KAGGLE'S PYTHON\n",
        "# ENVIRONMENT SO THERE MAY BE MISSING LIBRARIES USED BY YOUR\n",
        "# NOTEBOOK.\n",
        "\n",
        "import os\n",
        "import sys\n",
        "from tempfile import NamedTemporaryFile\n",
        "from urllib.request import urlopen\n",
        "from urllib.parse import unquote, urlparse\n",
        "from urllib.error import HTTPError\n",
        "from zipfile import ZipFile\n",
        "import tarfile\n",
        "import shutil\n",
        "\n",
        "CHUNK_SIZE = 40960\n",
        "DATA_SOURCE_MAPPING = 'arabic-100k-reviews:https%3A%2F%2Fstorage.googleapis.com%2Fkaggle-data-sets%2F543826%2F992592%2Fbundle%2Farchive.zip%3FX-Goog-Algorithm%3DGOOG4-RSA-SHA256%26X-Goog-Credential%3Dgcp-kaggle-com%2540kaggle-161607.iam.gserviceaccount.com%252F20240905%252Fauto%252Fstorage%252Fgoog4_request%26X-Goog-Date%3D20240905T075939Z%26X-Goog-Expires%3D259200%26X-Goog-SignedHeaders%3Dhost%26X-Goog-Signature%3Da7e7c7e3204fba15a731abdcd3f12695088d3c2e8a0a354622e0a2c1dc4f3a63dbf56c7be4aa9a4460d2271c1ca832ddb2078e0eb02f9781e5351bb8154adcf2dfde02997dafcc53470fa91dce52776adde7665873d86792c8bb82dfece7d5717eb5d44f667c778bb45c797ba77670fccb0a63c747876d940cf0d8fabd337a768530042bb3af0cdf7dedb4285d6528a4c99e99b0eb513f7d00362639395e65f120cba36c1a6992f7a935d29be518f9b1045ead21062f7484b1e2eb9a2b6124e716ac94544829270befa55cd2c61c6bb4c38d01f47af732cfcbd826421f8fedb72aaa431c42a572ccb0cdbec5331b221efd9d3046b9027ce3ca8893248446ee6c'\n",
        "\n",
        "KAGGLE_INPUT_PATH='/kaggle/input'\n",
        "KAGGLE_WORKING_PATH='/kaggle/working'\n",
        "KAGGLE_SYMLINK='kaggle'\n",
        "\n",
        "!umount /kaggle/input/ 2> /dev/null\n",
        "shutil.rmtree('/kaggle/input', ignore_errors=True)\n",
        "os.makedirs(KAGGLE_INPUT_PATH, 0o777, exist_ok=True)\n",
        "os.makedirs(KAGGLE_WORKING_PATH, 0o777, exist_ok=True)\n",
        "\n",
        "try:\n",
        "  os.symlink(KAGGLE_INPUT_PATH, os.path.join(\"..\", 'input'), target_is_directory=True)\n",
        "except FileExistsError:\n",
        "  pass\n",
        "try:\n",
        "  os.symlink(KAGGLE_WORKING_PATH, os.path.join(\"..\", 'working'), target_is_directory=True)\n",
        "except FileExistsError:\n",
        "  pass\n",
        "\n",
        "for data_source_mapping in DATA_SOURCE_MAPPING.split(','):\n",
        "    directory, download_url_encoded = data_source_mapping.split(':')\n",
        "    download_url = unquote(download_url_encoded)\n",
        "    filename = urlparse(download_url).path\n",
        "    destination_path = os.path.join(KAGGLE_INPUT_PATH, directory)\n",
        "    try:\n",
        "        with urlopen(download_url) as fileres, NamedTemporaryFile() as tfile:\n",
        "            total_length = fileres.headers['content-length']\n",
        "            print(f'Downloading {directory}, {total_length} bytes compressed')\n",
        "            dl = 0\n",
        "            data = fileres.read(CHUNK_SIZE)\n",
        "            while len(data) > 0:\n",
        "                dl += len(data)\n",
        "                tfile.write(data)\n",
        "                done = int(50 * dl / int(total_length))\n",
        "                sys.stdout.write(f\"\\r[{'=' * done}{' ' * (50-done)}] {dl} bytes downloaded\")\n",
        "                sys.stdout.flush()\n",
        "                data = fileres.read(CHUNK_SIZE)\n",
        "            if filename.endswith('.zip'):\n",
        "              with ZipFile(tfile) as zfile:\n",
        "                zfile.extractall(destination_path)\n",
        "            else:\n",
        "              with tarfile.open(tfile.name) as tarfile:\n",
        "                tarfile.extractall(destination_path)\n",
        "            print(f'\\nDownloaded and uncompressed: {directory}')\n",
        "    except HTTPError as e:\n",
        "        print(f'Failed to load (likely expired) {download_url} to path {destination_path}')\n",
        "        continue\n",
        "    except OSError as e:\n",
        "        print(f'Failed to load {download_url} to path {destination_path}')\n",
        "        continue\n",
        "\n",
        "print('Data source import complete.')\n"
      ],
      "metadata": {
        "id": "1eXBveecMkSE",
        "outputId": "ef5a9d7f-b765-49d7-f3ac-311a22d2236c",
        "colab": {
          "base_uri": "https://localhost:8080/"
        }
      },
      "cell_type": "code",
      "outputs": [
        {
          "output_type": "stream",
          "name": "stdout",
          "text": [
            "Downloading arabic-100k-reviews, 17871683 bytes compressed\n",
            "[==================================================] 17871683 bytes downloaded\n",
            "Downloaded and uncompressed: arabic-100k-reviews\n",
            "Data source import complete.\n"
          ]
        }
      ],
      "execution_count": 1
    },
    {
      "cell_type": "code",
      "source": [
        "import pandas as pd"
      ],
      "metadata": {
        "execution": {
          "iopub.status.busy": "2022-05-15T12:32:58.846519Z",
          "iopub.execute_input": "2022-05-15T12:32:58.846869Z",
          "iopub.status.idle": "2022-05-15T12:32:58.880012Z",
          "shell.execute_reply.started": "2022-05-15T12:32:58.846781Z",
          "shell.execute_reply": "2022-05-15T12:32:58.879153Z"
        },
        "trusted": true,
        "id": "-Ua10EoNMkSG"
      },
      "execution_count": 2,
      "outputs": []
    },
    {
      "cell_type": "code",
      "source": [
        "df = pd.read_csv('/kaggle/input/arabic-100k-reviews/ar_reviews_100k.tsv',sep='\\t')\n",
        "df.head()"
      ],
      "metadata": {
        "execution": {
          "iopub.status.busy": "2022-05-15T12:33:26.351998Z",
          "iopub.execute_input": "2022-05-15T12:33:26.35227Z",
          "iopub.status.idle": "2022-05-15T12:33:28.277843Z",
          "shell.execute_reply.started": "2022-05-15T12:33:26.352239Z",
          "shell.execute_reply": "2022-05-15T12:33:28.276509Z"
        },
        "trusted": true,
        "id": "p4bnBbjLMkSH",
        "outputId": "c854608e-3bca-4ab8-cd3f-071148d569f9",
        "colab": {
          "base_uri": "https://localhost:8080/",
          "height": 206
        }
      },
      "execution_count": 3,
      "outputs": [
        {
          "output_type": "execute_result",
          "data": {
            "text/plain": [
              "      label                                               text\n",
              "0  Positive  ممتاز نوعا ما . النظافة والموقع والتجهيز والشا...\n",
              "1  Positive  أحد أسباب نجاح الإمارات أن كل شخص في هذه الدول...\n",
              "2  Positive  هادفة .. وقوية. تنقلك من صخب شوارع القاهرة الى...\n",
              "3  Positive  خلصنا .. مبدئيا اللي مستني ابهار زي الفيل الاز...\n",
              "4  Positive  ياسات جلوريا جزء لا يتجزأ من دبي . فندق متكامل..."
            ],
            "text/html": [
              "\n",
              "  <div id=\"df-1baa4202-2463-4a7b-a7f5-8f6507878bd5\" class=\"colab-df-container\">\n",
              "    <div>\n",
              "<style scoped>\n",
              "    .dataframe tbody tr th:only-of-type {\n",
              "        vertical-align: middle;\n",
              "    }\n",
              "\n",
              "    .dataframe tbody tr th {\n",
              "        vertical-align: top;\n",
              "    }\n",
              "\n",
              "    .dataframe thead th {\n",
              "        text-align: right;\n",
              "    }\n",
              "</style>\n",
              "<table border=\"1\" class=\"dataframe\">\n",
              "  <thead>\n",
              "    <tr style=\"text-align: right;\">\n",
              "      <th></th>\n",
              "      <th>label</th>\n",
              "      <th>text</th>\n",
              "    </tr>\n",
              "  </thead>\n",
              "  <tbody>\n",
              "    <tr>\n",
              "      <th>0</th>\n",
              "      <td>Positive</td>\n",
              "      <td>ممتاز نوعا ما . النظافة والموقع والتجهيز والشا...</td>\n",
              "    </tr>\n",
              "    <tr>\n",
              "      <th>1</th>\n",
              "      <td>Positive</td>\n",
              "      <td>أحد أسباب نجاح الإمارات أن كل شخص في هذه الدول...</td>\n",
              "    </tr>\n",
              "    <tr>\n",
              "      <th>2</th>\n",
              "      <td>Positive</td>\n",
              "      <td>هادفة .. وقوية. تنقلك من صخب شوارع القاهرة الى...</td>\n",
              "    </tr>\n",
              "    <tr>\n",
              "      <th>3</th>\n",
              "      <td>Positive</td>\n",
              "      <td>خلصنا .. مبدئيا اللي مستني ابهار زي الفيل الاز...</td>\n",
              "    </tr>\n",
              "    <tr>\n",
              "      <th>4</th>\n",
              "      <td>Positive</td>\n",
              "      <td>ياسات جلوريا جزء لا يتجزأ من دبي . فندق متكامل...</td>\n",
              "    </tr>\n",
              "  </tbody>\n",
              "</table>\n",
              "</div>\n",
              "    <div class=\"colab-df-buttons\">\n",
              "\n",
              "  <div class=\"colab-df-container\">\n",
              "    <button class=\"colab-df-convert\" onclick=\"convertToInteractive('df-1baa4202-2463-4a7b-a7f5-8f6507878bd5')\"\n",
              "            title=\"Convert this dataframe to an interactive table.\"\n",
              "            style=\"display:none;\">\n",
              "\n",
              "  <svg xmlns=\"http://www.w3.org/2000/svg\" height=\"24px\" viewBox=\"0 -960 960 960\">\n",
              "    <path d=\"M120-120v-720h720v720H120Zm60-500h600v-160H180v160Zm220 220h160v-160H400v160Zm0 220h160v-160H400v160ZM180-400h160v-160H180v160Zm440 0h160v-160H620v160ZM180-180h160v-160H180v160Zm440 0h160v-160H620v160Z\"/>\n",
              "  </svg>\n",
              "    </button>\n",
              "\n",
              "  <style>\n",
              "    .colab-df-container {\n",
              "      display:flex;\n",
              "      gap: 12px;\n",
              "    }\n",
              "\n",
              "    .colab-df-convert {\n",
              "      background-color: #E8F0FE;\n",
              "      border: none;\n",
              "      border-radius: 50%;\n",
              "      cursor: pointer;\n",
              "      display: none;\n",
              "      fill: #1967D2;\n",
              "      height: 32px;\n",
              "      padding: 0 0 0 0;\n",
              "      width: 32px;\n",
              "    }\n",
              "\n",
              "    .colab-df-convert:hover {\n",
              "      background-color: #E2EBFA;\n",
              "      box-shadow: 0px 1px 2px rgba(60, 64, 67, 0.3), 0px 1px 3px 1px rgba(60, 64, 67, 0.15);\n",
              "      fill: #174EA6;\n",
              "    }\n",
              "\n",
              "    .colab-df-buttons div {\n",
              "      margin-bottom: 4px;\n",
              "    }\n",
              "\n",
              "    [theme=dark] .colab-df-convert {\n",
              "      background-color: #3B4455;\n",
              "      fill: #D2E3FC;\n",
              "    }\n",
              "\n",
              "    [theme=dark] .colab-df-convert:hover {\n",
              "      background-color: #434B5C;\n",
              "      box-shadow: 0px 1px 3px 1px rgba(0, 0, 0, 0.15);\n",
              "      filter: drop-shadow(0px 1px 2px rgba(0, 0, 0, 0.3));\n",
              "      fill: #FFFFFF;\n",
              "    }\n",
              "  </style>\n",
              "\n",
              "    <script>\n",
              "      const buttonEl =\n",
              "        document.querySelector('#df-1baa4202-2463-4a7b-a7f5-8f6507878bd5 button.colab-df-convert');\n",
              "      buttonEl.style.display =\n",
              "        google.colab.kernel.accessAllowed ? 'block' : 'none';\n",
              "\n",
              "      async function convertToInteractive(key) {\n",
              "        const element = document.querySelector('#df-1baa4202-2463-4a7b-a7f5-8f6507878bd5');\n",
              "        const dataTable =\n",
              "          await google.colab.kernel.invokeFunction('convertToInteractive',\n",
              "                                                    [key], {});\n",
              "        if (!dataTable) return;\n",
              "\n",
              "        const docLinkHtml = 'Like what you see? Visit the ' +\n",
              "          '<a target=\"_blank\" href=https://colab.research.google.com/notebooks/data_table.ipynb>data table notebook</a>'\n",
              "          + ' to learn more about interactive tables.';\n",
              "        element.innerHTML = '';\n",
              "        dataTable['output_type'] = 'display_data';\n",
              "        await google.colab.output.renderOutput(dataTable, element);\n",
              "        const docLink = document.createElement('div');\n",
              "        docLink.innerHTML = docLinkHtml;\n",
              "        element.appendChild(docLink);\n",
              "      }\n",
              "    </script>\n",
              "  </div>\n",
              "\n",
              "\n",
              "<div id=\"df-a60a50b2-0ce9-40d9-a180-94247a36ef8b\">\n",
              "  <button class=\"colab-df-quickchart\" onclick=\"quickchart('df-a60a50b2-0ce9-40d9-a180-94247a36ef8b')\"\n",
              "            title=\"Suggest charts\"\n",
              "            style=\"display:none;\">\n",
              "\n",
              "<svg xmlns=\"http://www.w3.org/2000/svg\" height=\"24px\"viewBox=\"0 0 24 24\"\n",
              "     width=\"24px\">\n",
              "    <g>\n",
              "        <path d=\"M19 3H5c-1.1 0-2 .9-2 2v14c0 1.1.9 2 2 2h14c1.1 0 2-.9 2-2V5c0-1.1-.9-2-2-2zM9 17H7v-7h2v7zm4 0h-2V7h2v10zm4 0h-2v-4h2v4z\"/>\n",
              "    </g>\n",
              "</svg>\n",
              "  </button>\n",
              "\n",
              "<style>\n",
              "  .colab-df-quickchart {\n",
              "      --bg-color: #E8F0FE;\n",
              "      --fill-color: #1967D2;\n",
              "      --hover-bg-color: #E2EBFA;\n",
              "      --hover-fill-color: #174EA6;\n",
              "      --disabled-fill-color: #AAA;\n",
              "      --disabled-bg-color: #DDD;\n",
              "  }\n",
              "\n",
              "  [theme=dark] .colab-df-quickchart {\n",
              "      --bg-color: #3B4455;\n",
              "      --fill-color: #D2E3FC;\n",
              "      --hover-bg-color: #434B5C;\n",
              "      --hover-fill-color: #FFFFFF;\n",
              "      --disabled-bg-color: #3B4455;\n",
              "      --disabled-fill-color: #666;\n",
              "  }\n",
              "\n",
              "  .colab-df-quickchart {\n",
              "    background-color: var(--bg-color);\n",
              "    border: none;\n",
              "    border-radius: 50%;\n",
              "    cursor: pointer;\n",
              "    display: none;\n",
              "    fill: var(--fill-color);\n",
              "    height: 32px;\n",
              "    padding: 0;\n",
              "    width: 32px;\n",
              "  }\n",
              "\n",
              "  .colab-df-quickchart:hover {\n",
              "    background-color: var(--hover-bg-color);\n",
              "    box-shadow: 0 1px 2px rgba(60, 64, 67, 0.3), 0 1px 3px 1px rgba(60, 64, 67, 0.15);\n",
              "    fill: var(--button-hover-fill-color);\n",
              "  }\n",
              "\n",
              "  .colab-df-quickchart-complete:disabled,\n",
              "  .colab-df-quickchart-complete:disabled:hover {\n",
              "    background-color: var(--disabled-bg-color);\n",
              "    fill: var(--disabled-fill-color);\n",
              "    box-shadow: none;\n",
              "  }\n",
              "\n",
              "  .colab-df-spinner {\n",
              "    border: 2px solid var(--fill-color);\n",
              "    border-color: transparent;\n",
              "    border-bottom-color: var(--fill-color);\n",
              "    animation:\n",
              "      spin 1s steps(1) infinite;\n",
              "  }\n",
              "\n",
              "  @keyframes spin {\n",
              "    0% {\n",
              "      border-color: transparent;\n",
              "      border-bottom-color: var(--fill-color);\n",
              "      border-left-color: var(--fill-color);\n",
              "    }\n",
              "    20% {\n",
              "      border-color: transparent;\n",
              "      border-left-color: var(--fill-color);\n",
              "      border-top-color: var(--fill-color);\n",
              "    }\n",
              "    30% {\n",
              "      border-color: transparent;\n",
              "      border-left-color: var(--fill-color);\n",
              "      border-top-color: var(--fill-color);\n",
              "      border-right-color: var(--fill-color);\n",
              "    }\n",
              "    40% {\n",
              "      border-color: transparent;\n",
              "      border-right-color: var(--fill-color);\n",
              "      border-top-color: var(--fill-color);\n",
              "    }\n",
              "    60% {\n",
              "      border-color: transparent;\n",
              "      border-right-color: var(--fill-color);\n",
              "    }\n",
              "    80% {\n",
              "      border-color: transparent;\n",
              "      border-right-color: var(--fill-color);\n",
              "      border-bottom-color: var(--fill-color);\n",
              "    }\n",
              "    90% {\n",
              "      border-color: transparent;\n",
              "      border-bottom-color: var(--fill-color);\n",
              "    }\n",
              "  }\n",
              "</style>\n",
              "\n",
              "  <script>\n",
              "    async function quickchart(key) {\n",
              "      const quickchartButtonEl =\n",
              "        document.querySelector('#' + key + ' button');\n",
              "      quickchartButtonEl.disabled = true;  // To prevent multiple clicks.\n",
              "      quickchartButtonEl.classList.add('colab-df-spinner');\n",
              "      try {\n",
              "        const charts = await google.colab.kernel.invokeFunction(\n",
              "            'suggestCharts', [key], {});\n",
              "      } catch (error) {\n",
              "        console.error('Error during call to suggestCharts:', error);\n",
              "      }\n",
              "      quickchartButtonEl.classList.remove('colab-df-spinner');\n",
              "      quickchartButtonEl.classList.add('colab-df-quickchart-complete');\n",
              "    }\n",
              "    (() => {\n",
              "      let quickchartButtonEl =\n",
              "        document.querySelector('#df-a60a50b2-0ce9-40d9-a180-94247a36ef8b button');\n",
              "      quickchartButtonEl.style.display =\n",
              "        google.colab.kernel.accessAllowed ? 'block' : 'none';\n",
              "    })();\n",
              "  </script>\n",
              "</div>\n",
              "\n",
              "    </div>\n",
              "  </div>\n"
            ],
            "application/vnd.google.colaboratory.intrinsic+json": {
              "type": "dataframe",
              "variable_name": "df",
              "summary": "{\n  \"name\": \"df\",\n  \"rows\": 99999,\n  \"fields\": [\n    {\n      \"column\": \"label\",\n      \"properties\": {\n        \"dtype\": \"category\",\n        \"num_unique_values\": 3,\n        \"samples\": [\n          \"Positive\",\n          \"Mixed\",\n          \"Negative\"\n        ],\n        \"semantic_type\": \"\",\n        \"description\": \"\"\n      }\n    },\n    {\n      \"column\": \"text\",\n      \"properties\": {\n        \"dtype\": \"string\",\n        \"num_unique_values\": 99999,\n        \"samples\": [\n          \"\\u0623\\u0642\\u0645 \\u0639\\u0644\\u0649 \\u0627\\u0644\\u0645\\u0627\\u0634\\u064a . \\u0628\\u0635\\u0648\\u0631\\u0629 \\u0639\\u0627\\u0645\\u0629 \\u0627\\u0644\\u063a\\u0631\\u0641\\u0629 \\u062c\\u064a\\u062f\\u0629 \\u0648\\u0643\\u0644 \\u0634\\u064a\\u0621 \\u0645\\u062a\\u0648\\u0641\\u0631 \\u0641\\u064a\\u0647\\u0627. \\u0639\\u062f\\u0645 \\u0648\\u062c\\u0648\\u062f \\u0633\\u062a\\u0627\\u0631\\u0629 \\u0627\\u0644\\u062d\\u0645\\u0627\\u0645\",\n          \"\\u0644\\u0645 \\u062a\\u0639\\u062c\\u0628\\u0646\\u064a \\u0643\\u0628\\u0627\\u0642\\u064a \\u0627\\u0644\\u0633\\u0644\\u0633\\u0644\\u0629 \\u0648 \\u063a\\u064a\\u0631 \\u0645\\u062a\\u062d\\u0645\\u0633 \\u0644\\u0642\\u0631\\u0627\\u0621\\u0629 \\u0627\\u0644\\u062c\\u0632\\u0621 \\u0627\\u0644\\u062b\\u0627\\u0646\\u064a \\u0645\\u0646\\u0647\\u0627\",\n          \"\\u0643\\u0627\\u0646 \\u0627\\u0644\\u0645\\u0643\\u0627\\u0646 \\u0645\\u0645\\u062a\\u0627\\u0632 \\u0648\\u0627\\u0644\\u0623\\u0645\\u0646 \\u0648\\u0627\\u0644\\u0627\\u0633\\u062a\\u0642\\u0628\\u0627\\u0644 \\u0627\\u0648\\u0643\\u064a . . \\u0627\\u0644\\u062a\\u0643\\u064a\\u064a\\u0641 \\u0643\\u0627\\u0646 \\u062d\\u0627\\u0631 \\u0648\\u0628\\u0644\\u063a\\u062a \\u0627\\u0643\\u062b\\u0631 \\u0645\\u0646 \\u0645\\u0631\\u0647 \\u064a\\u062a\\u0645 \\u0644\\u0647 \\u0635\\u064a\\u0627\\u0646\\u0647 \\u0648\\u0644\\u0643\\u0646 \\u062f\\u0648\\u0646 \\u062c\\u062f\\u0648\\u064a \\u0628\\u0627\\u0644\\u0627\\u0636\\u0627\\u0641\\u0629 \\u0627\\u0646\\u0647 \\u0627\\u0644\\u0633\\u0631\\u0641\\u0633 \\u0643\\u0627\\u0646 \\u0646\\u0648\\u0639\\u0627 \\u0645\\u0627 \\u0636\\u0639\\u064a\\u0641 \\u062d\\u062a\\u064a \\u0639\\u0645\\u0644 \\u0627\\u0644\\u0644\\u0627\\u0646\\u062f\\u0631\\u064a \\u0645\\u0627 \\u0643\\u0627\\u0646 \\u0645\\u0646\\u0648\\u0641\\u0631 \\u0641\\u064a \\u0646\\u0641\\u0633 \\u0627\\u0644\\u0641\\u0646\\u062f\\u0642 \\u0648\\u0643\\u0627\\u0646 \\u0627\\u0644\\u0644\\u0627\\u0646\\u062f\\u0631\\u064a \\u064a\\u0643\\u0648\\u0646 \\u062e\\u0627\\u0631\\u062c \\u0627\\u0644\\u0641\\u0646\\u062f\\u0642 \\u0648\\u0627\\u0644\\u0633\\u0639\\u0631 \\u0643\\u0627\\u0646 \\u063a\\u0627\\u0644\\u064a \\u0627\\u0644\\u062b\\u0645\\u0646 \\u0648\\u0627\\u0646\\u0627 \\u0627\\u0633\\u062a\\u063a\\u0631\\u0628\\u062a \\u0645\\u0646 \\u0627\\u0644\\u0623\\u0633\\u0639\\u0627\\u0631\"\n        ],\n        \"semantic_type\": \"\",\n        \"description\": \"\"\n      }\n    }\n  ]\n}"
            }
          },
          "metadata": {},
          "execution_count": 3
        }
      ]
    },
    {
      "cell_type": "code",
      "source": [
        "df.isnull().sum()"
      ],
      "metadata": {
        "execution": {
          "iopub.status.busy": "2022-05-15T12:33:31.7724Z",
          "iopub.execute_input": "2022-05-15T12:33:31.772761Z",
          "iopub.status.idle": "2022-05-15T12:33:31.817391Z",
          "shell.execute_reply.started": "2022-05-15T12:33:31.772727Z",
          "shell.execute_reply": "2022-05-15T12:33:31.815795Z"
        },
        "trusted": true,
        "id": "C57QB5twMkSI",
        "outputId": "eaaecb7d-049f-408b-e77c-46f2f7fecdda",
        "colab": {
          "base_uri": "https://localhost:8080/",
          "height": 147
        }
      },
      "execution_count": 4,
      "outputs": [
        {
          "output_type": "execute_result",
          "data": {
            "text/plain": [
              "label    0\n",
              "text     0\n",
              "dtype: int64"
            ],
            "text/html": [
              "<div>\n",
              "<style scoped>\n",
              "    .dataframe tbody tr th:only-of-type {\n",
              "        vertical-align: middle;\n",
              "    }\n",
              "\n",
              "    .dataframe tbody tr th {\n",
              "        vertical-align: top;\n",
              "    }\n",
              "\n",
              "    .dataframe thead th {\n",
              "        text-align: right;\n",
              "    }\n",
              "</style>\n",
              "<table border=\"1\" class=\"dataframe\">\n",
              "  <thead>\n",
              "    <tr style=\"text-align: right;\">\n",
              "      <th></th>\n",
              "      <th>0</th>\n",
              "    </tr>\n",
              "  </thead>\n",
              "  <tbody>\n",
              "    <tr>\n",
              "      <th>label</th>\n",
              "      <td>0</td>\n",
              "    </tr>\n",
              "    <tr>\n",
              "      <th>text</th>\n",
              "      <td>0</td>\n",
              "    </tr>\n",
              "  </tbody>\n",
              "</table>\n",
              "</div><br><label><b>dtype:</b> int64</label>"
            ]
          },
          "metadata": {},
          "execution_count": 4
        }
      ]
    },
    {
      "cell_type": "code",
      "source": [
        "df['label'].value_counts()"
      ],
      "metadata": {
        "execution": {
          "iopub.status.busy": "2022-05-15T12:33:39.503111Z",
          "iopub.execute_input": "2022-05-15T12:33:39.503451Z",
          "iopub.status.idle": "2022-05-15T12:33:39.53132Z",
          "shell.execute_reply.started": "2022-05-15T12:33:39.503391Z",
          "shell.execute_reply": "2022-05-15T12:33:39.530337Z"
        },
        "trusted": true,
        "id": "glH84f64MkSI",
        "outputId": "373723c2-ce1a-4182-cdff-6d6812afb2a3",
        "colab": {
          "base_uri": "https://localhost:8080/",
          "height": 209
        }
      },
      "execution_count": 5,
      "outputs": [
        {
          "output_type": "execute_result",
          "data": {
            "text/plain": [
              "label\n",
              "Positive    33333\n",
              "Mixed       33333\n",
              "Negative    33333\n",
              "Name: count, dtype: int64"
            ],
            "text/html": [
              "<div>\n",
              "<style scoped>\n",
              "    .dataframe tbody tr th:only-of-type {\n",
              "        vertical-align: middle;\n",
              "    }\n",
              "\n",
              "    .dataframe tbody tr th {\n",
              "        vertical-align: top;\n",
              "    }\n",
              "\n",
              "    .dataframe thead th {\n",
              "        text-align: right;\n",
              "    }\n",
              "</style>\n",
              "<table border=\"1\" class=\"dataframe\">\n",
              "  <thead>\n",
              "    <tr style=\"text-align: right;\">\n",
              "      <th></th>\n",
              "      <th>count</th>\n",
              "    </tr>\n",
              "    <tr>\n",
              "      <th>label</th>\n",
              "      <th></th>\n",
              "    </tr>\n",
              "  </thead>\n",
              "  <tbody>\n",
              "    <tr>\n",
              "      <th>Positive</th>\n",
              "      <td>33333</td>\n",
              "    </tr>\n",
              "    <tr>\n",
              "      <th>Mixed</th>\n",
              "      <td>33333</td>\n",
              "    </tr>\n",
              "    <tr>\n",
              "      <th>Negative</th>\n",
              "      <td>33333</td>\n",
              "    </tr>\n",
              "  </tbody>\n",
              "</table>\n",
              "</div><br><label><b>dtype:</b> int64</label>"
            ]
          },
          "metadata": {},
          "execution_count": 5
        }
      ]
    },
    {
      "cell_type": "code",
      "source": [
        "df = df[df['label']!='Mixed']"
      ],
      "metadata": {
        "execution": {
          "iopub.status.busy": "2022-05-15T12:33:45.761935Z",
          "iopub.execute_input": "2022-05-15T12:33:45.762209Z",
          "iopub.status.idle": "2022-05-15T12:33:45.788773Z",
          "shell.execute_reply.started": "2022-05-15T12:33:45.762179Z",
          "shell.execute_reply": "2022-05-15T12:33:45.787724Z"
        },
        "trusted": true,
        "id": "NzwMG5v8MkSJ"
      },
      "execution_count": 6,
      "outputs": []
    },
    {
      "cell_type": "code",
      "source": [
        "df.duplicated().sum()"
      ],
      "metadata": {
        "execution": {
          "iopub.status.busy": "2022-05-15T12:33:59.535659Z",
          "iopub.execute_input": "2022-05-15T12:33:59.536569Z",
          "iopub.status.idle": "2022-05-15T12:33:59.781994Z",
          "shell.execute_reply.started": "2022-05-15T12:33:59.536508Z",
          "shell.execute_reply": "2022-05-15T12:33:59.780988Z"
        },
        "trusted": true,
        "id": "r5gsfI6UMkSK",
        "outputId": "abcfd4f0-2970-4c36-8960-81830a3640d2",
        "colab": {
          "base_uri": "https://localhost:8080/"
        }
      },
      "execution_count": 7,
      "outputs": [
        {
          "output_type": "execute_result",
          "data": {
            "text/plain": [
              "0"
            ]
          },
          "metadata": {},
          "execution_count": 7
        }
      ]
    },
    {
      "cell_type": "code",
      "source": [
        "import nltk\n",
        "from nltk.corpus import stopwords\n",
        "nltk.download('stopwords')\n",
        "stop_words = list(set(stopwords.words('arabic')))\n",
        "print(stop_words)"
      ],
      "metadata": {
        "execution": {
          "iopub.status.busy": "2022-05-15T12:35:12.645489Z",
          "iopub.execute_input": "2022-05-15T12:35:12.645829Z",
          "iopub.status.idle": "2022-05-15T12:35:14.804582Z",
          "shell.execute_reply.started": "2022-05-15T12:35:12.645793Z",
          "shell.execute_reply": "2022-05-15T12:35:14.802246Z"
        },
        "trusted": true,
        "id": "QP7VqfhoMkSL",
        "outputId": "234d2473-11a2-41b1-cb5a-5f1f06271bb5",
        "colab": {
          "base_uri": "https://localhost:8080/"
        }
      },
      "execution_count": 8,
      "outputs": [
        {
          "output_type": "stream",
          "name": "stdout",
          "text": [
            "['فاء', 'جنيه', 'وُشْكَانَ', 'أيضا', 'عدا', 'مليم', 'اثنين', 'ثلاثمئة', 'بمن', 'سمعا', 'سبعة', 'علم', 'كأي', 'ثالث', 'فإن', 'ظاء', 'صاد', 'إليكَ', 'عشرون', 'أقل', 'نا', 'أيّان', 'ثمان', 'أخبر', 'ثلاثة', 'جير', 'أ', 'إذن', 'عما', 'ثمّة', 'لن', 'و', 'إما', 'هيّا', 'باء', 'حمو', 'قلما', 'بغتة', 'أبدا', 'علق', 'إنه', 'أوه', 'أبريل', 'أمسى', 'على', 'إياكما', 'هَاتانِ', 'سبعون', 'مع', 'هذان', 'أصبح', 'سنتيم', 'إذ', 'اللتيا', 'إليكما', 'دينار', 'ئ', 'ذوا', 'أخذ', 'مهما', 'أيلول', 'ظنَّ', 'طاق', 'كأين', 'سابع', 'حبذا', 'ضاد', 'نون', 'لهم', 'غ', 'غادر', 'وما', 'لات', 'كثيرا', 'خمسمائة', 'سقى', 'شباط', 'بسّ', 'ذات', 'واو', 'ألفى', 'ستمائة', 'من', 'هذا', 'أجمع', 'بها', 'ليستا', 'صهٍ', 'كي', 'دون', 'تفعلين', 'إياها', 'سرعان', 'كيفما', 'مئة', 'سوى', 'رُبَّ', 'عدَّ', 'يا', 'شَتَّانَ', 'صراحة', 'أمام', 'أبو', 'إمّا', 'اللواتي', 'كليكما', 'هلا', 'إليكنّ', 'دواليك', 'أو', 'أرى', 'إذا', 'سين', 'جميع', 'أم', 'هَذانِ', 'أفعل به', 'ذا', 'ذي', 'ذ', 'إيه', 'ما أفعله', 'تانِك', 'ذانِ', 'تِه', 'هو', 'بل', 'أجل', 'ذهب', 'ع', 'آها', 'والذي', 'ث', 'صار', 'بي', 'كسا', 'أمس', 'هؤلاء', 'ضحوة', 'خمس', 'بك', 'ق', 'خمسة', 'هاء', 'سبحان', 'إلا', 'كى', 'ذِي', 'أربعمائة', 'لوما', 'آمينَ', 'خلف', 'ألا', 'قطّ', 'تلقاء', 'خمسون', 'ماي', 'بلى', 'بهن', 'س', 'اربعين', 'رجع', 'ت', 'جلل', 'سبعمائة', 'أينما', 'هنا', 'ذال', 'تسعمائة', 'آنفا', 'عاد', 'ر', 'أنا', 'أول', 'ن', 'معاذ', 'راح', 'كلتا', 'جوان', 'واحد', 'حتى', 'هنالك', 'غير', 'فيم', 'واهاً', 'أعطى', 'هاتين', 'ذه', 'بنا', 'تسعة', 'أمّا', 'ثاني', 'لبيك', 'فيما', 'اثني', 'لم', 'درى', 'طالما', 'إيهٍ', 'كما', 'تي', 'ذيت', 'زاي', 'أصلا', 'هن', 'هل', 'بكما', 'كل', 'بعد', 'آهِ', 'حاي', 'استحال', 'بكن', 'مكانَك', 'مكانكم', 'فيفري', 'أن', 'أنتم', 'أقبل', 'طرا', 'ليسا', 'رابع', 'طاء', 'وا', 'ثلاثاء', 'أربع', 'كرب', 'الآن', 'أنشأ', 'إياكن', 'ثمَّ', 'أنتِ', 'تاء', 'اخلولق', 'هاتان', 'ته', 'ولا', 'كلّما', 'ذواتي', 'عند', 'فو', 'أمد', 'ذو', 'ومن', 'هَذِه', 'بئس', 'بعض', 'هَاتَيْنِ', 'تلك', 'دولار', 'هَاتِي', 'هيهات', 'أنبأ', 'ثلاثمائة', 'أنًّ', 'ثلاثين', 'زعم', 'جعل', 'آب', 'إياهم', 'إياهما', 'ّأيّان', 'ارتدّ', 'ليسوا', 'يفعلون', 'لعمر', 'ياء', 'راء', 'بات', 'لا', 'هيا', 'ك', 'لستم', 'بؤسا', 'خ', 'أى', 'ذَيْنِ', 'إيانا', 'وهو', 'شين', 'لئن', 'كأيّن', 'خبَّر', 'غداة', 'نحو', 'وراءَك', 'لام', 'يناير', 'منها', 'الألاء', 'هاهنا', 'مازال', 'أنت', 'ذين', 'سبعين', 'طفق', 'مما', 'آي', 'بضع', 'غدا', 'دونك', 'انقلب', 'إذما', 'ريث', 'ليس', 'حمٌ', 'إنما', 'وجد', 'بكم', 'هما', 'أف', 'أين', 'أنتما', 'خامس', 'تَيْنِ', 'تفعلون', 'لنا', 'لستما', 'أولئك', 'إى', 'تلكم', 'تسعون', 'هَذا', 'ذواتا', 'ثان', 'اللائي', 'شتان', 'ثمانين', 'يوليو', 'مائة', 'لو', 'قرش', 'حَذارِ', 'لهما', 'أل', 'بهما', 'نفس', 'مايو', 'ثاء', 'بيد', 'يونيو', 'كاد', 'أما', 'ه', 'عشر', 'أي', 'الألى', 'ين', 'ذلكما', 'عاشر', 'كلما', 'والذين', 'ما انفك', 'أكثر', 'تبدّل', 'ثماني', 'أحد', 'هذه', 'كلَّا', 'ليرة', 'مئتان', 'ذينك', 'عشرة', 'بَسْ', 'إياك', 'رويدك', 'إنَّ', 'فمن', 'جيم', 'هَذَيْنِ', 'ذلكم', 'أيها', 'لكيلا', 'تسع', 'متى', 'حيث', 'زود', 'يوان', 'دال', 'كلا', 'هَاتِه', 'أنتن', 'خال', 'آناء', 'خمسين', 'لسن', 'إليكن', 'أمامكَ', 'مثل', 'بطآن', 'غالبا', 'أولاء', 'إلى', 'أربعاء', 'ريال', 'نَخْ', 'تعسا', 'أوشك', 'خلا', 'ذان', 'سادس', 'مكانكنّ', 'هاتي', 'كاف', 'أخو', 'إنا', 'آ', 'كيف', 'ذِه', 'مكانكما', 'ءَ', 'شبه', 'تاسع', 'حيثما', 'هلم', 'كأيّ', 'هذي', 'أغسطس', 'ف', 'تخذ', 'نبَّا', 'اثنا', 'آض', 'ثمانمئة', 'كِخ', 'ثمّ', 'آهاً', 'بَلْهَ', 'ا', 'خمسمئة', 'هكذا', 'له', 'مه', 'عجبا', 'خميس', 'إياكم', 'مرّة', 'حزيران', 'أكتوبر', 'أفريل', 'لسنا', 'نحن', 'طَق', 'سرا', 'كانون', 'ض', 'فيها', 'منه', 'نيسان', 'آذار', 'ليت', 'عيانا', 'لكم', 'هاكَ', 'كأن', 'رأى', 'هَؤلاء', 'هي', 'تعلَّم', 'كلاهما', 'ما', 'إياي', 'حرى', 'ط', 'هلّا', 'تفعلان', 'تموز', 'ميم', 'إذاً', 'ذانك', 'أخٌ', 'إياهن', 'لكنما', 'ولو', 'ؤ', 'اتخذ', 'ليست', 'أربعة', 'إزاء', 'بهم', 'وإن', 'أربعمئة', 'فلان', 'ورد', 'في', 'إلّا', 'نعم', 'جانفي', 'لعلَّ', 'سحقا', 'تين', 'صهْ', 'منذ', 'همزة', 'إلَيْكَ', 'التي', 'أنّى', 'وَيْ', 'هاك', 'فإذا', 'إليك', 'لك', 'حجا', 'يمين', 'اللذين', 'مارس', 'أوّهْ', 'بعدا', 'اربعون', 'ذاك', 'ستة', 'فلس', 'لست', 'به', 'كليهما', 'عل', 'أُفٍّ', 'انبرى', 'وهب', 'تارة', 'جمعة', 'فيه', 'صباح', 'لي', 'أيّ', 'نَّ', 'فوق', 'تحت', 'بين', 'لا سيما', 'ما برح', 'نوفمبر', 'درهم', 'إحدى', 'لكن', 'كان', 'لكما', 'ها', 'حيَّ', 'أهلا', 'صدقا', 'بماذا', 'ثمانون', 'عسى', 'تشرين', 'فلا', 'عَدَسْ', 'ظلّ', 'ثمة', 'تسعين', 'ثم', 'هم', 'أيار', 'إياه', 'تسعمئة', 'ديسمبر', 'يفعلان', 'لدن', 'سبتمبر', 'ثلاث', 'فضلا', 'كن', 'صبرا', 'قام', 'سوف', 'إليكم', 'هيت', 'لاسيما', 'أفٍّ', 'ثمانية', 'اللتين', 'ولكن', 'حقا', 'كأنّ', 'الذين', 'ساء', 'ذلكن', 'ى', 'شرع', 'أوت', 'لدى', 'حسب', 'ذلك', 'ظ', 'ابتدأ', 'عامة', 'الذي', 'أمامك', 'عن', 'قاف', 'ش', 'اللذان', 'ثامن', 'نيف', 'ز', 'قاطبة', 'هاته', 'مذ', 'ممن', 'هللة', 'إي', 'حادي', 'هَيْهات', 'اللاتي', 'بما', 'أضحى', 'هَذِي', 'مساء', 'اللتان', 'م', 'سبت', 'أعلم', 'ستين', 'آهٍ', 'فبراير', 'كذا', 'ألف', 'خلافا', 'وإذ', 'ة', 'قد', 'فرادى', 'أبٌ', 'ستمئة', 'أيا', 'ترك', 'تجاه', 'ء', 'حدَث', 'حبيب', 'سبع', 'لمّا', 'لكنَّ', 'خاء', 'خاصة', 'تينك', 'لستن', 'ج', 'ل', 'تحوّل', 'ص', 'تِي', 'صبر', 'سبعمئة', 'يورو', 'حمدا', 'عليك', 'حاشا', 'حار', 'لها', 'بس', 'لولا', 'شمال', 'حين', 'تلكما', 'غين', 'كم', 'كأنما', 'تانِ', 'ب', 'ح', 'إن', 'لعل', 'ي', 'أولالك', 'ثلاثون', 'ماذا', 'عين', 'مادام', 'شتانَ', 'عوض', 'هبّ', 'بخٍ', 'آه', 'عشرين', 'اثنان', 'لهن', 'د', 'وإذا', 'حاء', 'ست', 'هناك', 'علًّ', 'هذين', 'لكي', 'ثمنمئة', 'عليه', 'شيكل', 'رزق', 'مافتئ', 'ستون', 'قبل', 'هَجْ', 'كذلك', 'لما', 'جويلية', 'أنى', 'أسكن', 'أطعم', 'بخ', 'كيت']\n"
          ]
        },
        {
          "output_type": "stream",
          "name": "stderr",
          "text": [
            "[nltk_data] Downloading package stopwords to /root/nltk_data...\n",
            "[nltk_data]   Unzipping corpora/stopwords.zip.\n"
          ]
        }
      ]
    },
    {
      "cell_type": "code",
      "source": [
        "import re\n",
        "import string\n",
        "import sys\n",
        "import argparse\n",
        "from nltk.tokenize import word_tokenize\n",
        "\n",
        "arabic_punctuations = '''`÷×؛<>_()*&^%][ـ،/:\"؟.,'{}~¦+|!”…“–ـ'''\n",
        "english_punctuations = string.punctuation\n",
        "punctuations_list = arabic_punctuations + english_punctuations\n"
      ],
      "metadata": {
        "execution": {
          "iopub.status.busy": "2022-05-15T12:35:33.579108Z",
          "iopub.execute_input": "2022-05-15T12:35:33.579446Z",
          "iopub.status.idle": "2022-05-15T12:35:33.587046Z",
          "shell.execute_reply.started": "2022-05-15T12:35:33.579397Z",
          "shell.execute_reply": "2022-05-15T12:35:33.585669Z"
        },
        "trusted": true,
        "id": "I6kn4oaUMkSL"
      },
      "execution_count": null,
      "outputs": []
    },
    {
      "cell_type": "code",
      "source": [
        "def remove_diacritics(text):\n",
        "    arabic_diacritics = re.compile(\"\"\" ّ    | # Tashdid\n",
        "                             َ    | # Fatha\n",
        "                             ً    | # Tanwin Fath\n",
        "                             ُ    | # Damma\n",
        "                             ٌ    | # Tanwin Damm\n",
        "                             ِ    | # Kasra\n",
        "                             ٍ    | # Tanwin Kasr\n",
        "                             ْ    | # Sukun\n",
        "                             ـ     # Tatwil/Kashida\n",
        "                         \"\"\", re.VERBOSE)\n",
        "    text = re.sub(arabic_diacritics, '', str(text))\n",
        "    return text\n",
        "\n",
        "def remove_emoji(text):\n",
        "    regrex_pattern = re.compile(pattern = \"[\"\n",
        "        u\"\\U0001F600-\\U0001F64F\"  # emoticons\n",
        "        u\"\\U0001F300-\\U0001F5FF\"  # symbols & pictographs\n",
        "        u\"\\U0001F680-\\U0001F6FF\"  # transport & map symbols\n",
        "        u\"\\U0001F1E0-\\U0001F1FF\"  # flags (iOS)\n",
        "                           \"]+\", flags = re.UNICODE)\n",
        "    return regrex_pattern.sub(r'',text)\n",
        "\n",
        "def clean_text(text):\n",
        "    text = \"\".join([word for word in text if word not in string.punctuation])\n",
        "    text = remove_emoji(text)\n",
        "    text = remove_diacritics(text)\n",
        "    tokens = word_tokenize(text)\n",
        "    text = ' '.join([word for word in tokens if word not in stop_words])\n",
        "    return text"
      ],
      "metadata": {
        "execution": {
          "iopub.status.busy": "2022-05-15T12:43:32.368235Z",
          "iopub.execute_input": "2022-05-15T12:43:32.368776Z",
          "iopub.status.idle": "2022-05-15T12:43:32.379048Z",
          "shell.execute_reply.started": "2022-05-15T12:43:32.368743Z",
          "shell.execute_reply": "2022-05-15T12:43:32.377925Z"
        },
        "trusted": true,
        "id": "ErbMkCLWMkSM"
      },
      "execution_count": null,
      "outputs": []
    },
    {
      "cell_type": "code",
      "source": [
        "df['cleanedtext'] = df['text'].apply(clean_text)"
      ],
      "metadata": {
        "execution": {
          "iopub.status.busy": "2022-05-15T12:43:35.746542Z",
          "iopub.execute_input": "2022-05-15T12:43:35.747309Z",
          "iopub.status.idle": "2022-05-15T12:44:47.383328Z",
          "shell.execute_reply.started": "2022-05-15T12:43:35.747255Z",
          "shell.execute_reply": "2022-05-15T12:44:47.382664Z"
        },
        "trusted": true,
        "id": "q4CIiqwjMkSN"
      },
      "execution_count": null,
      "outputs": []
    },
    {
      "cell_type": "code",
      "source": [
        "df.head()"
      ],
      "metadata": {
        "execution": {
          "iopub.status.busy": "2022-05-15T12:45:34.190773Z",
          "iopub.execute_input": "2022-05-15T12:45:34.191223Z",
          "iopub.status.idle": "2022-05-15T12:45:34.203276Z",
          "shell.execute_reply.started": "2022-05-15T12:45:34.191177Z",
          "shell.execute_reply": "2022-05-15T12:45:34.202523Z"
        },
        "trusted": true,
        "id": "zjVFycW9MkSN"
      },
      "execution_count": null,
      "outputs": []
    },
    {
      "cell_type": "code",
      "source": [
        "def process_text(text):\n",
        "    stemmer = nltk.ISRIStemmer()\n",
        "    word_list = nltk.word_tokenize(text)\n",
        "    #stemming\n",
        "    word_list = [stemmer.stem(w) for w in  word_list]\n",
        "    return ' '.join(word_list)\n"
      ],
      "metadata": {
        "execution": {
          "iopub.status.busy": "2022-05-15T12:45:41.901186Z",
          "iopub.execute_input": "2022-05-15T12:45:41.902283Z",
          "iopub.status.idle": "2022-05-15T12:45:41.90845Z",
          "shell.execute_reply.started": "2022-05-15T12:45:41.902229Z",
          "shell.execute_reply": "2022-05-15T12:45:41.907665Z"
        },
        "trusted": true,
        "id": "tWI3U6qiMkSO"
      },
      "execution_count": null,
      "outputs": []
    },
    {
      "cell_type": "code",
      "source": [
        "df['cleanedtextnew']=df['cleanedtext'].apply(process_text)"
      ],
      "metadata": {
        "execution": {
          "iopub.status.busy": "2022-05-15T12:50:17.692013Z",
          "iopub.execute_input": "2022-05-15T12:50:17.692356Z",
          "iopub.status.idle": "2022-05-15T12:51:13.346049Z",
          "shell.execute_reply.started": "2022-05-15T12:50:17.692316Z",
          "shell.execute_reply": "2022-05-15T12:51:13.344841Z"
        },
        "trusted": true,
        "id": "t-DNOKSiMkSO"
      },
      "execution_count": null,
      "outputs": []
    },
    {
      "cell_type": "code",
      "source": [
        "df.head()"
      ],
      "metadata": {
        "execution": {
          "iopub.status.busy": "2022-05-15T12:51:25.889675Z",
          "iopub.execute_input": "2022-05-15T12:51:25.889992Z",
          "iopub.status.idle": "2022-05-15T12:51:25.903192Z",
          "shell.execute_reply.started": "2022-05-15T12:51:25.889961Z",
          "shell.execute_reply": "2022-05-15T12:51:25.902327Z"
        },
        "trusted": true,
        "id": "IiWTXff-MkSO"
      },
      "execution_count": null,
      "outputs": []
    },
    {
      "cell_type": "code",
      "source": [
        "### split data to train and test\n",
        "from sklearn.model_selection import train_test_split\n",
        "x,y=df['cleanedtext'],df['label']\n",
        "x_train,x_test,y_train,y_test=train_test_split(x,y,test_size=0.3)\n",
        "print(len(x_train))\n",
        "print(len(y_train))\n",
        "print(len(x_test))\n",
        "print(len(y_test))"
      ],
      "metadata": {
        "execution": {
          "iopub.status.busy": "2022-05-15T12:53:01.564678Z",
          "iopub.execute_input": "2022-05-15T12:53:01.565006Z",
          "iopub.status.idle": "2022-05-15T12:53:01.593042Z",
          "shell.execute_reply.started": "2022-05-15T12:53:01.564976Z",
          "shell.execute_reply": "2022-05-15T12:53:01.591672Z"
        },
        "trusted": true,
        "id": "MmiU1aKVMkSO"
      },
      "execution_count": null,
      "outputs": []
    },
    {
      "cell_type": "code",
      "source": [
        "\n",
        "from sklearn.feature_extraction.text import TfidfVectorizer\n",
        "from sklearn.svm import SVC\n",
        "vectorizer=TfidfVectorizer() #(analyzer='char_wb',ngram_range=(3,5),min_df=0.01,max_df=0.3)"
      ],
      "metadata": {
        "execution": {
          "iopub.status.busy": "2022-05-15T12:55:01.20111Z",
          "iopub.execute_input": "2022-05-15T12:55:01.202089Z",
          "iopub.status.idle": "2022-05-15T12:55:01.208057Z",
          "shell.execute_reply.started": "2022-05-15T12:55:01.202037Z",
          "shell.execute_reply": "2022-05-15T12:55:01.207217Z"
        },
        "trusted": true,
        "id": "5pA2Wxx_MkSP"
      },
      "execution_count": null,
      "outputs": []
    },
    {
      "cell_type": "code",
      "source": [
        "clf=SVC(kernel='rbf')"
      ],
      "metadata": {
        "execution": {
          "iopub.status.busy": "2022-05-15T12:55:05.772166Z",
          "iopub.execute_input": "2022-05-15T12:55:05.773374Z",
          "iopub.status.idle": "2022-05-15T12:55:05.777097Z",
          "shell.execute_reply.started": "2022-05-15T12:55:05.773332Z",
          "shell.execute_reply": "2022-05-15T12:55:05.775986Z"
        },
        "trusted": true,
        "id": "LRRUINLHMkSP"
      },
      "execution_count": null,
      "outputs": []
    },
    {
      "cell_type": "code",
      "source": [
        "from sklearn.pipeline import make_pipeline\n",
        "pipe=make_pipeline(vectorizer,clf)"
      ],
      "metadata": {
        "execution": {
          "iopub.status.busy": "2022-05-15T12:55:11.904445Z",
          "iopub.execute_input": "2022-05-15T12:55:11.90495Z",
          "iopub.status.idle": "2022-05-15T12:55:11.913924Z",
          "shell.execute_reply.started": "2022-05-15T12:55:11.904912Z",
          "shell.execute_reply": "2022-05-15T12:55:11.91293Z"
        },
        "trusted": true,
        "id": "vt0fYgSnMkSP"
      },
      "execution_count": null,
      "outputs": []
    },
    {
      "cell_type": "code",
      "source": [
        "pipe.fit(x_train,y_train)"
      ],
      "metadata": {
        "execution": {
          "iopub.status.busy": "2022-05-15T12:55:51.278313Z",
          "iopub.execute_input": "2022-05-15T12:55:51.279374Z"
        },
        "trusted": true,
        "id": "zD9ueiJaMkSQ"
      },
      "execution_count": null,
      "outputs": []
    },
    {
      "cell_type": "code",
      "source": [
        "y_pred=pipe.predict(x_test)"
      ],
      "metadata": {
        "trusted": true,
        "id": "26aVziHRMkSQ"
      },
      "execution_count": null,
      "outputs": []
    },
    {
      "cell_type": "code",
      "source": [
        "from sklearn.metrics import accuracy_score,confusion_matrix\n",
        "accuracy_score(y_test,y_pred)"
      ],
      "metadata": {
        "trusted": true,
        "id": "0FHGZ2fwMkSQ"
      },
      "execution_count": null,
      "outputs": []
    }
  ]
}
