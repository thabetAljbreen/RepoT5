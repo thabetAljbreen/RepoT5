{
  "cells": [
    {
      "cell_type": "markdown",
      "metadata": {
        "id": "view-in-github",
        "colab_type": "text"
      },
      "source": [
        "<a href=\"https://colab.research.google.com/github/thabetAljbreen/RepoT5/blob/main/Tokenizer_Exercise.ipynb\" target=\"_parent\"><img src=\"https://colab.research.google.com/assets/colab-badge.svg\" alt=\"Open In Colab\"/></a>"
      ]
    },
    {
      "cell_type": "markdown",
      "id": "5e090c3c",
      "metadata": {
        "id": "5e090c3c"
      },
      "source": [
        "# Tokenization Exercise"
      ]
    },
    {
      "cell_type": "markdown",
      "id": "930c0a94",
      "metadata": {
        "id": "930c0a94"
      },
      "source": [
        "### Sample Text:\n",
        "```python\n",
        "sample_text = \"Artificial Intelligence is revolutionizing the world of technology.\"\n",
        "```"
      ]
    },
    {
      "cell_type": "markdown",
      "id": "d7460a21",
      "metadata": {
        "id": "d7460a21"
      },
      "source": [
        "## 1. Character Tokenization"
      ]
    },
    {
      "cell_type": "markdown",
      "id": "9eb2d643",
      "metadata": {
        "id": "9eb2d643"
      },
      "source": [
        "Tokenize the sample text into individual characters.\n",
        "\n",
        "Write your implementation below:"
      ]
    },
    {
      "cell_type": "code",
      "execution_count": 3,
      "id": "275d764f",
      "metadata": {
        "id": "275d764f",
        "outputId": "48f8d143-9643-4d2f-d92d-838a8d83bfa8",
        "colab": {
          "base_uri": "https://localhost:8080/"
        }
      },
      "outputs": [
        {
          "output_type": "stream",
          "name": "stdout",
          "text": [
            "['A', 'r', 't', 'i', 'f', 'i', 'c', 'i', 'a', 'l', ' ', 'I', 'n', 't', 'e', 'l', 'l', 'i', 'g', 'e', 'n', 'c', 'e', ' ', 'i', 's', ' ', 'r', 'e', 'v', 'o', 'l', 'u', 't', 'i', 'o', 'n', 'i', 'z', 'i', 'n', 'g', ' ', 't', 'h', 'e', ' ', 'w', 'o', 'r', 'l', 'd', ' ', 'o', 'f', ' ', 't', 'e', 'c', 'h', 'n', 'o', 'l', 'o', 'g', 'y', '.']\n"
          ]
        }
      ],
      "source": [
        "sample_text = \"Artificial Intelligence is revolutionizing the world of technology.\"\n",
        "\n",
        "char_tokens = list(sample_text)\n",
        "print(char_tokens)"
      ]
    },
    {
      "cell_type": "markdown",
      "id": "0a3a922a",
      "metadata": {
        "id": "0a3a922a"
      },
      "source": [
        "## 2. Word Tokenization"
      ]
    },
    {
      "cell_type": "markdown",
      "id": "c2c596b3",
      "metadata": {
        "id": "c2c596b3"
      },
      "source": [
        "Tokenize the sample text into words using the `nltk` library.\n",
        "\n",
        "Write your implementation below:"
      ]
    },
    {
      "cell_type": "code",
      "execution_count": 4,
      "id": "d12be75f",
      "metadata": {
        "id": "d12be75f",
        "outputId": "f1f09573-b135-4697-fb95-1b5a6dd03df3",
        "colab": {
          "base_uri": "https://localhost:8080/"
        }
      },
      "outputs": [
        {
          "output_type": "stream",
          "name": "stderr",
          "text": [
            "[nltk_data] Downloading package punkt to /root/nltk_data...\n",
            "[nltk_data]   Unzipping tokenizers/punkt.zip.\n"
          ]
        },
        {
          "output_type": "stream",
          "name": "stdout",
          "text": [
            "['Artificial', 'Intelligence', 'is', 'revolutionizing', 'the', 'world', 'of', 'technology', '.']\n"
          ]
        }
      ],
      "source": [
        "import nltk\n",
        "nltk.download('punkt')\n",
        "\n",
        "# Example of word tokenization\n",
        "from nltk.tokenize import word_tokenize\n",
        "\n",
        "sample_text = \"Artificial Intelligence is revolutionizing the world of technology.\"\n",
        "word_tokens = word_tokenize(sample_text)\n",
        "print(word_tokens)\n",
        "\n"
      ]
    },
    {
      "cell_type": "markdown",
      "id": "86fc94db",
      "metadata": {
        "id": "86fc94db"
      },
      "source": [
        "## 3. Sentence Tokenization"
      ]
    },
    {
      "cell_type": "markdown",
      "id": "ae693c20",
      "metadata": {
        "id": "ae693c20"
      },
      "source": [
        "Tokenize the following paragraph into sentences:\n",
        "```python\n",
        "paragraph = \"Tokenization is essential. It breaks text into meaningful units. This allows for easier processing.\"\n",
        "```\n",
        "\n",
        "Use the `nltk` library for sentence tokenization. Write your implementation below:"
      ]
    },
    {
      "cell_type": "code",
      "execution_count": 5,
      "id": "e5243859",
      "metadata": {
        "id": "e5243859",
        "outputId": "d0508441-abaf-41b1-f878-d1012ca34a5c",
        "colab": {
          "base_uri": "https://localhost:8080/"
        }
      },
      "outputs": [
        {
          "output_type": "stream",
          "name": "stdout",
          "text": [
            "['Tokenization is essential.', 'It breaks text into meaningful units.', 'This allows for easier processing.']\n"
          ]
        }
      ],
      "source": [
        "paragraph = \"Tokenization is essential. It breaks text into meaningful units. This allows for easier processing.\"\n",
        "\n",
        "\n",
        "from nltk.tokenize import sent_tokenize\n",
        "\n",
        "sentence_tokens = sent_tokenize(paragraph)\n",
        "print(sentence_tokens)"
      ]
    },
    {
      "cell_type": "markdown",
      "id": "7739f726",
      "metadata": {
        "id": "7739f726"
      },
      "source": [
        "## 4. Byte Pair Encoding (BPE)"
      ]
    },
    {
      "cell_type": "markdown",
      "id": "3a016010",
      "metadata": {
        "id": "3a016010"
      },
      "source": [
        "Use the `tokenizers` library to apply Byte Pair Encoding (BPE) to the sample text.\n",
        "\n",
        "Write your implementation below:"
      ]
    },
    {
      "cell_type": "code",
      "execution_count": 6,
      "id": "abfd6076",
      "metadata": {
        "id": "abfd6076",
        "outputId": "3dccf287-8406-4dad-fefe-8800c0663245",
        "colab": {
          "base_uri": "https://localhost:8080/"
        }
      },
      "outputs": [
        {
          "output_type": "stream",
          "name": "stdout",
          "text": [
            "['T5', 'is', 'fun', '!']\n"
          ]
        }
      ],
      "source": [
        "\n",
        "from tokenizers import Tokenizer\n",
        "from tokenizers.models import BPE\n",
        "from tokenizers.trainers import BpeTrainer\n",
        "from tokenizers.pre_tokenizers import Whitespace\n",
        "\n",
        "tokenizer = Tokenizer(BPE())\n",
        "trainer = BpeTrainer(vocab_size=1000)\n",
        "tokenizer.pre_tokenizer = Whitespace()\n",
        "\n",
        "texts = [\"T5 is fun!\", \"Byte Pair Encoding is powerful.\"]\n",
        "tokenizer.train_from_iterator(texts, trainer)\n",
        "\n",
        "output = tokenizer.encode(\"T5 is fun!\")\n",
        "print(output.tokens)\n"
      ]
    }
  ],
  "metadata": {
    "language_info": {
      "name": "python"
    },
    "colab": {
      "provenance": [],
      "include_colab_link": true
    },
    "kernelspec": {
      "name": "python3",
      "display_name": "Python 3"
    }
  },
  "nbformat": 4,
  "nbformat_minor": 5
}